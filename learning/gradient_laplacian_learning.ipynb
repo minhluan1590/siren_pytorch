{
 "cells": [
  {
   "cell_type": "code",
   "execution_count": null,
   "outputs": [],
   "source": [
    "import matplotlib.pyplot as plt\n",
    "import numpy as np\n",
    "import torch\n",
    "from torch.nn import Linear, ReLU, Sequential\n",
    "from torch.utils.data import DataLoader\n",
    "import tqdm\n",
    "from core.image_siren import GradientUtils, ImageSiren, PixelDataset"
   ],
   "metadata": {
    "collapsed": false,
    "pycharm": {
     "name": "#%%\n"
    }
   }
  },
  {
   "cell_type": "code",
   "execution_count": null,
   "outputs": [],
   "source": [
    "# Prefer CUDA if available\n",
    "device = torch.device('cuda' if torch.cuda.is_available() else 'cpu')"
   ],
   "metadata": {
    "collapsed": false,
    "pycharm": {
     "name": "#%%\n"
    }
   }
  },
  {
   "cell_type": "code",
   "execution_count": null,
   "outputs": [],
   "source": [
    "# Image loading\n",
    "img_ = plt.imread('dog.png')\n",
    "downsampling_factor = 2\n",
    "img = 2 * (img_ - 0.5)\n",
    "img = img[::downsampling_factor, ::downsampling_factor]"
   ],
   "metadata": {
    "collapsed": false,
    "pycharm": {
     "name": "#%%\n"
    }
   }
  },
  {
   "cell_type": "code",
   "execution_count": null,
   "outputs": [],
   "source": [
    "plt.imshow(img, cmap='gray')"
   ],
   "metadata": {
    "collapsed": false,
    "pycharm": {
     "name": "#%%\n"
    }
   }
  },
  {
   "cell_type": "code",
   "execution_count": null,
   "outputs": [],
   "source": [
    "size = img.shape[0]"
   ],
   "metadata": {
    "collapsed": false,
    "pycharm": {
     "name": "#%%\n"
    }
   }
  },
  {
   "cell_type": "code",
   "execution_count": null,
   "outputs": [],
   "source": [
    "# Create the dataset\n",
    "dataset = PixelDataset(img)"
   ],
   "metadata": {
    "collapsed": false,
    "pycharm": {
     "name": "#%%\n"
    }
   }
  },
  {
   "cell_type": "code",
   "execution_count": null,
   "outputs": [],
   "source": [
    "# Parameters\n",
    "n_epochs = 5000\n",
    "batch_size = int(size ** 2)\n",
    "logging_freq = 50"
   ],
   "metadata": {
    "collapsed": false,
    "pycharm": {
     "name": "#%%\n"
    }
   }
  },
  {
   "cell_type": "code",
   "execution_count": null,
   "outputs": [],
   "source": [
    "model_name = 'siren'  # 'siren' or 'mlp_relu'\n",
    "hidden_features = 512\n",
    "hidden_layers = 3"
   ],
   "metadata": {
    "collapsed": false,
    "pycharm": {
     "name": "#%%\n"
    }
   }
  },
  {
   "cell_type": "code",
   "execution_count": null,
   "outputs": [],
   "source": [
    "target = 'intensity'  # 'intensity', 'grad' or 'laplace'"
   ],
   "metadata": {
    "collapsed": false,
    "pycharm": {
     "name": "#%%\n"
    }
   }
  },
  {
   "cell_type": "code",
   "execution_count": null,
   "outputs": [],
   "source": [
    "# Create the model\n",
    "if model_name == 'siren':\n",
    "    model = ImageSiren(\n",
    "        hidden_features=hidden_features,\n",
    "        hidden_layers=hidden_layers,\n",
    "        hidden_omega=30\n",
    "    )\n",
    "elif model_name == 'mlp_relu':\n",
    "    layers = [Linear(2, hidden_features), ReLU()]\n",
    "    for _ in range(hidden_layers):\n",
    "        layers.append(Linear(hidden_features, hidden_features))\n",
    "        layers.append(ReLU())\n",
    "    layers.append(Linear(hidden_features, 1))\n",
    "    model = Sequential(*layers)\n",
    "    for module in model.modules():\n",
    "        if not isinstance(module, Linear):\n",
    "            continue\n",
    "        torch.nn.init.xavier_uniform_(module.weight)\n",
    "else:\n",
    "    raise ValueError('Unknown model name')\n",
    "\n",
    "model.to(device)"
   ],
   "metadata": {
    "collapsed": false,
    "pycharm": {
     "name": "#%%\n"
    }
   }
  },
  {
   "cell_type": "code",
   "execution_count": null,
   "outputs": [],
   "source": [
    "dataloader = DataLoader(dataset, batch_size=batch_size, shuffle=True)\n",
    "optim = torch.optim.Adam(params=model.parameters(), lr=1e-4)"
   ],
   "metadata": {
    "collapsed": false,
    "pycharm": {
     "name": "#%%\n"
    }
   }
  },
  {
   "cell_type": "code",
   "execution_count": null,
   "outputs": [],
   "source": [
    "# Train the model\n",
    "for e in range(n_epochs):\n",
    "    losses = []\n",
    "    for d_batch in tqdm.tqdm(dataloader):\n",
    "        x_batch = d_batch['coords'].to(torch.float32).to(device)\n",
    "        x_batch.requires_grad = True  # Allow taking derivatives\n",
    "\n",
    "        y_true_batch = d_batch['intensity'].to(torch.float32).to(device)\n",
    "        y_true_batch = y_true_batch[:, None]  # Add another dimension\n",
    "\n",
    "        y_pred_batch = model(x_batch)\n",
    "\n",
    "        if target == 'intensity':\n",
    "            loss = torch.nn.functional.mse_loss(y_pred_batch, y_true_batch)\n",
    "        elif target == 'grad':\n",
    "            y_pred_g_batch = GradientUtils.gradient(y_pred_batch, x_batch)\n",
    "            y_true_g_batch = d_batch['grad'].to(torch.float32)\n",
    "            loss = torch.nn.functional.mse_loss(y_pred_g_batch, y_true_g_batch)\n",
    "        elif target == 'laplace':\n",
    "            y_pred_l_batch = GradientUtils.laplacian(y_pred_batch, x_batch)\n",
    "            y_true_l_batch = d_batch['laplace'].to(torch.float32)\n",
    "            loss = torch.nn.functional.mse_loss(y_pred_l_batch, y_true_l_batch)\n",
    "        else:\n",
    "            raise ValueError('Unknown target')\n",
    "\n",
    "        losses.append(loss.cpu().item())\n",
    "\n",
    "        optim.zero_grad()\n",
    "        loss.backward()\n",
    "        optim.step()\n",
    "\n",
    "    print(e, np.mean(losses))\n",
    "\n",
    "    if e % logging_freq == 0:\n",
    "        # Display the prediction image\n",
    "        pred_img = np.zeros_like(img)\n",
    "        pred_img_grad_norm = np.zeros_like(img)\n",
    "        pred_img_laplace = np.zeros_like(img)\n",
    "\n",
    "        orig_img = np.zeros_like(img)\n",
    "        for d_batch in tqdm.tqdm(dataloader):\n",
    "            coords_cpu = d_batch['coords'].to(torch.float32)\n",
    "            coords_cpu.requires_grad = True\n",
    "\n",
    "            coords = coords_cpu.to(device)\n",
    "            coords_abs = d_batch['coords_abs'].numpy()\n",
    "\n",
    "            pred = model(coords).cpu()\n",
    "            pred_n = pred.detach().numpy().squeeze()\n",
    "            pred_g = GradientUtils.gradient(pred, coords_cpu).norm(dim=-1).detach().numpy().squeeze()\n",
    "            pred_l = GradientUtils.laplace(pred, coords_cpu).detach().numpy().squeeze()\n",
    "\n",
    "            pred_img[coords_abs[:, 0], coords_abs[:, 1]] = pred_n\n",
    "            pred_img_grad_norm[coords_abs[:, 0], coords_abs[:, 1]] = pred_g\n",
    "            pred_img_laplace[coords_abs[:, 0], coords_abs[:, 1]] = pred_l\n",
    "\n",
    "        fig, axes = plt.subplots(3, 2, constrained_layout=True)\n",
    "        axes[0, 0].imshow(dataset.img, cmap='gray')\n",
    "        axes[0, 1].imshow(pred_img, cmap='gray')\n",
    "        axes[1, 0].imshow(dataset.grad_norm, cmap='gray')\n",
    "        axes[1, 1].imshow(pred_img_grad_norm, cmap='gray')\n",
    "        axes[2, 0].imshow(dataset.laplace, cmap='gray')\n",
    "        axes[2, 1].imshow(pred_img_laplace, cmap='gray')\n",
    "\n",
    "        for row in axes:\n",
    "            for ax in row:\n",
    "                ax.axis('off')\n",
    "\n",
    "        fig.suptitle('Epoch {}'.format(e))\n",
    "        axes[0, 0].set_title('Original')\n",
    "        axes[0, 1].set_title('Prediction')\n",
    "\n",
    "        plt.show()"
   ],
   "metadata": {
    "collapsed": false,
    "pycharm": {
     "name": "#%%\n"
    }
   }
  }
 ],
 "metadata": {
  "kernelspec": {
   "display_name": "Python 3",
   "language": "python",
   "name": "python3"
  },
  "language_info": {
   "codemirror_mode": {
    "name": "ipython",
    "version": 2
   },
   "file_extension": ".py",
   "mimetype": "text/x-python",
   "name": "python",
   "nbconvert_exporter": "python",
   "pygments_lexer": "ipython2",
   "version": "2.7.6"
  }
 },
 "nbformat": 4,
 "nbformat_minor": 0
}